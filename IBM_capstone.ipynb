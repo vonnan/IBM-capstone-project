{
  "nbformat": 4,
  "nbformat_minor": 0,
  "metadata": {
    "colab": {
      "name": "IBM_capstone.ipynb",
      "provenance": [],
      "authorship_tag": "ABX9TyPaWBPIzO5HlaLZliw3PNuv",
      "include_colab_link": true
    },
    "kernelspec": {
      "name": "python3",
      "display_name": "Python 3"
    }
  },
  "cells": [
    {
      "cell_type": "markdown",
      "metadata": {
        "id": "view-in-github",
        "colab_type": "text"
      },
      "source": [
        "<a href=\"https://colab.research.google.com/github/vonnan/IBM-capstone-project/blob/main/IBM_capstone.ipynb\" target=\"_parent\"><img src=\"https://colab.research.google.com/assets/colab-badge.svg\" alt=\"Open In Colab\"/></a>"
      ]
    },
    {
      "cell_type": "markdown",
      "metadata": {
        "id": "Szjccz1w6FLm"
      },
      "source": [
        "###IBM Capstone Project"
      ]
    },
    {
      "cell_type": "code",
      "metadata": {
        "id": "PeV3SiIquC_w",
        "colab": {
          "base_uri": "https://localhost:8080/"
        },
        "outputId": "50ca80cb-9dff-4cd8-89bc-7897ed7ed6e7"
      },
      "source": [
        "import pandas as pd\n",
        "pd.set_option(\"display.max_rows\", None)\n",
        "pd.set_option(\"display.max_columns\", None)\n",
        "import numpy as np\n",
        "print(\"Hello Capstone Project Course!\")"
      ],
      "execution_count": 6,
      "outputs": [
        {
          "output_type": "stream",
          "text": [
            "Hello Capstone Project Course!\n"
          ],
          "name": "stdout"
        }
      ]
    },
    {
      "cell_type": "markdown",
      "metadata": {
        "id": "9rhJ7DYL6Jg6"
      },
      "source": [
        "### Webscraping from https://en.wikipedia.org/wiki/List_of_postal_codes_of_Canada:_M\n",
        "\n",
        "To create the above dataframe:\n",
        "\n",
        "1. The dataframe will consist of three columns: PostalCode, \n",
        "Borough, and Neighborhood\n",
        "2. Only process the cells that have an assigned borough. Ignore cells with a borough that is Not assigned.\n",
        "3. More than one neighborhood can exist in one postal code area. For example, in the table on the Wikipedia page, you will notice that M5A is listed twice and has two neighborhoods: Harbourfront and Regent Park. These two rows will be combined into one row with the neighborhoods separated with a comma as shown in row 11 in the above table.\n",
        "4. If a cell has a borough but a Not assigned neighborhood, then the neighborhood will be the same as the borough.\n",
        "Clean your Notebook and add Markdown cells to explain your work and any assumptions you are making.\n",
        "In the last cell of your notebook, use the .shape method to print the number of rows of your dataframe.\n",
        "\n",
        "\n",
        "\n"
      ]
    },
    {
      "cell_type": "markdown",
      "metadata": {
        "id": "6JgzNbu-Y9yj"
      },
      "source": [
        "### Use pd.read_html for webscraping the Toronto data\n",
        "\n",
        "The dataframe will consist of three columns: PostalCode, Borough, and Neighborhood\n",
        "\n"
      ]
    },
    {
      "cell_type": "code",
      "metadata": {
        "id": "i3rU1h5B_E-C"
      },
      "source": [
        "url = \"https://en.wikipedia.org/wiki/List_of_postal_codes_of_Canada:_M\"\n",
        "df1, df2, df3 = pd.read_html(url)\n",
        "\n",
        "df1.columns = [\"PostalCode\", \"Borough\", \"Neighborhood\"]\n",
        "\n",
        "\n"
      ],
      "execution_count": 17,
      "outputs": []
    },
    {
      "cell_type": "markdown",
      "metadata": {
        "id": "4DFu66b4Zv0B"
      },
      "source": [
        "### Only process the cells that have an assigned borough. Ignore cells with a borough that is Not assigned.\n",
        "\n",
        "### More than one neighborhood can exist in one postal code area. For example, in the table on the Wikipedia page, you will notice that M5A is listed twice and has two neighborhoods: Harbourfront and Regent Park. These two rows will be combined into one row with the neighborhoods separated with a comma as shown in row 11 in the above table."
      ]
    },
    {
      "cell_type": "code",
      "metadata": {
        "id": "EyyW6Ay9ZiI7"
      },
      "source": [
        "toronto = df1.loc[df1[\"Borough\"] != \"Not assigned\"].copy() # remove the unassigned borough\n",
        "\n",
        "toronto.sort_values(\"PostalCode\", inplace = True)"
      ],
      "execution_count": 24,
      "outputs": []
    },
    {
      "cell_type": "markdown",
      "metadata": {
        "id": "L6_k6T5rGJkZ"
      },
      "source": [
        "###If a cell has a borough but a Not assigned neighborhood, then the neighborhood will be the same as the borough. Clean your Notebook and add Markdown cells to explain your work and any assumptions you are making. \n",
        "\n",
        "###In the last cell of your notebook, use the .shape method to print the number of rows of your dataframe.\n",
        "\n"
      ]
    },
    {
      "cell_type": "code",
      "metadata": {
        "colab": {
          "base_uri": "https://localhost:8080/",
          "height": 221
        },
        "id": "TM-BeB_UabY5",
        "outputId": "9bb075a9-830c-4203-8473-f323f24065a5"
      },
      "source": [
        "toronto[toronto[\"Neighborhood\"] == \"Not assigned\"][\"Neighborhood\"] = toronto[toronto[\"Neighborhood\"] == \"Not assigned\"][\"Borough\"] #If a cell has a borough but a Not assigned neighborhood, then the neighborhood will be the same as the borough. \n",
        "\n",
        "print(\"There are {} rows, i.e., postal codes in the dataframe\".format(toronto.shape[0])) \n",
        "\n",
        "toronto.head()"
      ],
      "execution_count": 25,
      "outputs": [
        {
          "output_type": "stream",
          "text": [
            "There are 103 rows, i.e., postal codes in the dataframe\n"
          ],
          "name": "stdout"
        },
        {
          "output_type": "execute_result",
          "data": {
            "text/html": [
              "<div>\n",
              "<style scoped>\n",
              "    .dataframe tbody tr th:only-of-type {\n",
              "        vertical-align: middle;\n",
              "    }\n",
              "\n",
              "    .dataframe tbody tr th {\n",
              "        vertical-align: top;\n",
              "    }\n",
              "\n",
              "    .dataframe thead th {\n",
              "        text-align: right;\n",
              "    }\n",
              "</style>\n",
              "<table border=\"1\" class=\"dataframe\">\n",
              "  <thead>\n",
              "    <tr style=\"text-align: right;\">\n",
              "      <th></th>\n",
              "      <th>PostalCode</th>\n",
              "      <th>Borough</th>\n",
              "      <th>Neighborhood</th>\n",
              "    </tr>\n",
              "  </thead>\n",
              "  <tbody>\n",
              "    <tr>\n",
              "      <th>9</th>\n",
              "      <td>M1B</td>\n",
              "      <td>Scarborough</td>\n",
              "      <td>Malvern, Rouge</td>\n",
              "    </tr>\n",
              "    <tr>\n",
              "      <th>18</th>\n",
              "      <td>M1C</td>\n",
              "      <td>Scarborough</td>\n",
              "      <td>Rouge Hill, Port Union, Highland Creek</td>\n",
              "    </tr>\n",
              "    <tr>\n",
              "      <th>27</th>\n",
              "      <td>M1E</td>\n",
              "      <td>Scarborough</td>\n",
              "      <td>Guildwood, Morningside, West Hill</td>\n",
              "    </tr>\n",
              "    <tr>\n",
              "      <th>36</th>\n",
              "      <td>M1G</td>\n",
              "      <td>Scarborough</td>\n",
              "      <td>Woburn</td>\n",
              "    </tr>\n",
              "    <tr>\n",
              "      <th>45</th>\n",
              "      <td>M1H</td>\n",
              "      <td>Scarborough</td>\n",
              "      <td>Cedarbrae</td>\n",
              "    </tr>\n",
              "  </tbody>\n",
              "</table>\n",
              "</div>"
            ],
            "text/plain": [
              "   PostalCode      Borough                            Neighborhood\n",
              "9         M1B  Scarborough                          Malvern, Rouge\n",
              "18        M1C  Scarborough  Rouge Hill, Port Union, Highland Creek\n",
              "27        M1E  Scarborough       Guildwood, Morningside, West Hill\n",
              "36        M1G  Scarborough                                  Woburn\n",
              "45        M1H  Scarborough                               Cedarbrae"
            ]
          },
          "metadata": {
            "tags": []
          },
          "execution_count": 25
        }
      ]
    },
    {
      "cell_type": "markdown",
      "metadata": {
        "id": "i5AK2WQLclp1"
      },
      "source": [
        "### The above is for the first link submission, requirement 1-4\n",
        "\n",
        "(Submit a link to your Notebook on your Github repository. (10 marks))"
      ]
    },
    {
      "cell_type": "markdown",
      "metadata": {
        "id": "5R9crew2fjtB"
      },
      "source": [
        "###we need to get the latitude and the longitude coordinates of each neighborhood.\n",
        "First try use geocoder.google to get the latitude and longitude information\n",
        "\n",
        "Step 1: Install geocoder and import it"
      ]
    },
    {
      "cell_type": "code",
      "metadata": {
        "id": "84VxJFYifit4",
        "outputId": "de841caf-8045-4c95-aff5-4e4fee11e9a6",
        "colab": {
          "base_uri": "https://localhost:8080/"
        }
      },
      "source": [
        "!pip install geocoder\n",
        "import geocoder\n"
      ],
      "execution_count": 10,
      "outputs": [
        {
          "output_type": "stream",
          "text": [
            "Collecting geocoder\n",
            "\u001b[?25l  Downloading https://files.pythonhosted.org/packages/4f/6b/13166c909ad2f2d76b929a4227c952630ebaf0d729f6317eb09cbceccbab/geocoder-1.38.1-py2.py3-none-any.whl (98kB)\n",
            "\r\u001b[K     |███▎                            | 10kB 15.7MB/s eta 0:00:01\r\u001b[K     |██████▋                         | 20kB 20.5MB/s eta 0:00:01\r\u001b[K     |██████████                      | 30kB 10.7MB/s eta 0:00:01\r\u001b[K     |█████████████▎                  | 40kB 8.4MB/s eta 0:00:01\r\u001b[K     |████████████████▋               | 51kB 4.4MB/s eta 0:00:01\r\u001b[K     |████████████████████            | 61kB 4.8MB/s eta 0:00:01\r\u001b[K     |███████████████████████▎        | 71kB 5.2MB/s eta 0:00:01\r\u001b[K     |██████████████████████████▋     | 81kB 5.5MB/s eta 0:00:01\r\u001b[K     |██████████████████████████████  | 92kB 5.5MB/s eta 0:00:01\r\u001b[K     |████████████████████████████████| 102kB 3.8MB/s \n",
            "\u001b[?25hRequirement already satisfied: requests in /usr/local/lib/python3.6/dist-packages (from geocoder) (2.23.0)\n",
            "Requirement already satisfied: six in /usr/local/lib/python3.6/dist-packages (from geocoder) (1.15.0)\n",
            "Requirement already satisfied: click in /usr/local/lib/python3.6/dist-packages (from geocoder) (7.1.2)\n",
            "Collecting ratelim\n",
            "  Downloading https://files.pythonhosted.org/packages/f2/98/7e6d147fd16a10a5f821db6e25f192265d6ecca3d82957a4fdd592cad49c/ratelim-0.1.6-py2.py3-none-any.whl\n",
            "Requirement already satisfied: future in /usr/local/lib/python3.6/dist-packages (from geocoder) (0.16.0)\n",
            "Requirement already satisfied: chardet<4,>=3.0.2 in /usr/local/lib/python3.6/dist-packages (from requests->geocoder) (3.0.4)\n",
            "Requirement already satisfied: certifi>=2017.4.17 in /usr/local/lib/python3.6/dist-packages (from requests->geocoder) (2020.11.8)\n",
            "Requirement already satisfied: idna<3,>=2.5 in /usr/local/lib/python3.6/dist-packages (from requests->geocoder) (2.10)\n",
            "Requirement already satisfied: urllib3!=1.25.0,!=1.25.1,<1.26,>=1.21.1 in /usr/local/lib/python3.6/dist-packages (from requests->geocoder) (1.24.3)\n",
            "Requirement already satisfied: decorator in /usr/local/lib/python3.6/dist-packages (from ratelim->geocoder) (4.4.2)\n",
            "Installing collected packages: ratelim, geocoder\n",
            "Successfully installed geocoder-1.38.1 ratelim-0.1.6\n"
          ],
          "name": "stdout"
        }
      ]
    },
    {
      "cell_type": "markdown",
      "metadata": {
        "id": "6gY_EJUagP9L"
      },
      "source": [
        ""
      ]
    },
    {
      "cell_type": "code",
      "metadata": {
        "id": "FLBw8Z8aFn6Z"
      },
      "source": [
        "\"\"\"\n",
        "\n",
        "def get_lat_long(postalcode):\n",
        "  counter = 0\n",
        "  location = None\n",
        "  while (location == None):\n",
        "    location = geocoder.google(\"{}, Toronto, Ontario\".format(postalcode)).latlon\n",
        "    counter += 1\n",
        "    if counter ==10:\n",
        "      break\n",
        "  \n",
        "  return location\n",
        "\n",
        "toronto[\"location\"] = toronto[\"PostalCode\"].apply(get_lat_long)\n",
        "\n",
        "toronto.head()\n",
        "\"\"\""
      ],
      "execution_count": null,
      "outputs": []
    },
    {
      "cell_type": "markdown",
      "metadata": {
        "id": "rEMKhwcEiXBl"
      },
      "source": [
        "###Geocoder.google is not reliable.\n",
        "We have to user the webscraping to obtain the latitude/longitude for the Toronto borough/neighborhood"
      ]
    },
    {
      "cell_type": "code",
      "metadata": {
        "id": "ixlYAbY1U2AY"
      },
      "source": [
        "url = \"https://cocl.us/Geospatial_data\"\n",
        "PC_location = pd.read_csv(url)\n",
        "PC_location.rename(columns = {\"Postal Code\": \"PostalCode\"}, inplace = True)\n",
        "toronto = toronto.merge(PC_location, how = \"left\", on= \"PostalCode\")\n"
      ],
      "execution_count": null,
      "outputs": []
    },
    {
      "cell_type": "code",
      "metadata": {
        "id": "44I3lJVTjE0e",
        "outputId": "2354021b-65b1-45ef-dca8-51eeab4c2c21",
        "colab": {
          "base_uri": "https://localhost:8080/",
          "height": 438
        }
      },
      "source": [
        "print(toronto.shape[0])\n",
        "toronto.head(12)"
      ],
      "execution_count": 27,
      "outputs": [
        {
          "output_type": "stream",
          "text": [
            "103\n"
          ],
          "name": "stdout"
        },
        {
          "output_type": "execute_result",
          "data": {
            "text/html": [
              "<div>\n",
              "<style scoped>\n",
              "    .dataframe tbody tr th:only-of-type {\n",
              "        vertical-align: middle;\n",
              "    }\n",
              "\n",
              "    .dataframe tbody tr th {\n",
              "        vertical-align: top;\n",
              "    }\n",
              "\n",
              "    .dataframe thead th {\n",
              "        text-align: right;\n",
              "    }\n",
              "</style>\n",
              "<table border=\"1\" class=\"dataframe\">\n",
              "  <thead>\n",
              "    <tr style=\"text-align: right;\">\n",
              "      <th></th>\n",
              "      <th>PostalCode</th>\n",
              "      <th>Borough</th>\n",
              "      <th>Neighborhood</th>\n",
              "      <th>Latitude</th>\n",
              "      <th>Longitude</th>\n",
              "    </tr>\n",
              "  </thead>\n",
              "  <tbody>\n",
              "    <tr>\n",
              "      <th>0</th>\n",
              "      <td>M1B</td>\n",
              "      <td>Scarborough</td>\n",
              "      <td>Malvern, Rouge</td>\n",
              "      <td>43.806686</td>\n",
              "      <td>-79.194353</td>\n",
              "    </tr>\n",
              "    <tr>\n",
              "      <th>1</th>\n",
              "      <td>M1C</td>\n",
              "      <td>Scarborough</td>\n",
              "      <td>Rouge Hill, Port Union, Highland Creek</td>\n",
              "      <td>43.784535</td>\n",
              "      <td>-79.160497</td>\n",
              "    </tr>\n",
              "    <tr>\n",
              "      <th>2</th>\n",
              "      <td>M1E</td>\n",
              "      <td>Scarborough</td>\n",
              "      <td>Guildwood, Morningside, West Hill</td>\n",
              "      <td>43.763573</td>\n",
              "      <td>-79.188711</td>\n",
              "    </tr>\n",
              "    <tr>\n",
              "      <th>3</th>\n",
              "      <td>M1G</td>\n",
              "      <td>Scarborough</td>\n",
              "      <td>Woburn</td>\n",
              "      <td>43.770992</td>\n",
              "      <td>-79.216917</td>\n",
              "    </tr>\n",
              "    <tr>\n",
              "      <th>4</th>\n",
              "      <td>M1H</td>\n",
              "      <td>Scarborough</td>\n",
              "      <td>Cedarbrae</td>\n",
              "      <td>43.773136</td>\n",
              "      <td>-79.239476</td>\n",
              "    </tr>\n",
              "    <tr>\n",
              "      <th>5</th>\n",
              "      <td>M1J</td>\n",
              "      <td>Scarborough</td>\n",
              "      <td>Scarborough Village</td>\n",
              "      <td>43.744734</td>\n",
              "      <td>-79.239476</td>\n",
              "    </tr>\n",
              "    <tr>\n",
              "      <th>6</th>\n",
              "      <td>M1K</td>\n",
              "      <td>Scarborough</td>\n",
              "      <td>Kennedy Park, Ionview, East Birchmount Park</td>\n",
              "      <td>43.727929</td>\n",
              "      <td>-79.262029</td>\n",
              "    </tr>\n",
              "    <tr>\n",
              "      <th>7</th>\n",
              "      <td>M1L</td>\n",
              "      <td>Scarborough</td>\n",
              "      <td>Golden Mile, Clairlea, Oakridge</td>\n",
              "      <td>43.711112</td>\n",
              "      <td>-79.284577</td>\n",
              "    </tr>\n",
              "    <tr>\n",
              "      <th>8</th>\n",
              "      <td>M1M</td>\n",
              "      <td>Scarborough</td>\n",
              "      <td>Cliffside, Cliffcrest, Scarborough Village West</td>\n",
              "      <td>43.716316</td>\n",
              "      <td>-79.239476</td>\n",
              "    </tr>\n",
              "    <tr>\n",
              "      <th>9</th>\n",
              "      <td>M1N</td>\n",
              "      <td>Scarborough</td>\n",
              "      <td>Birch Cliff, Cliffside West</td>\n",
              "      <td>43.692657</td>\n",
              "      <td>-79.264848</td>\n",
              "    </tr>\n",
              "    <tr>\n",
              "      <th>10</th>\n",
              "      <td>M1P</td>\n",
              "      <td>Scarborough</td>\n",
              "      <td>Dorset Park, Wexford Heights, Scarborough Town...</td>\n",
              "      <td>43.757410</td>\n",
              "      <td>-79.273304</td>\n",
              "    </tr>\n",
              "    <tr>\n",
              "      <th>11</th>\n",
              "      <td>M1R</td>\n",
              "      <td>Scarborough</td>\n",
              "      <td>Wexford, Maryvale</td>\n",
              "      <td>43.750072</td>\n",
              "      <td>-79.295849</td>\n",
              "    </tr>\n",
              "  </tbody>\n",
              "</table>\n",
              "</div>"
            ],
            "text/plain": [
              "   PostalCode      Borough                                       Neighborhood  \\\n",
              "0         M1B  Scarborough                                     Malvern, Rouge   \n",
              "1         M1C  Scarborough             Rouge Hill, Port Union, Highland Creek   \n",
              "2         M1E  Scarborough                  Guildwood, Morningside, West Hill   \n",
              "3         M1G  Scarborough                                             Woburn   \n",
              "4         M1H  Scarborough                                          Cedarbrae   \n",
              "5         M1J  Scarborough                                Scarborough Village   \n",
              "6         M1K  Scarborough        Kennedy Park, Ionview, East Birchmount Park   \n",
              "7         M1L  Scarborough                    Golden Mile, Clairlea, Oakridge   \n",
              "8         M1M  Scarborough    Cliffside, Cliffcrest, Scarborough Village West   \n",
              "9         M1N  Scarborough                        Birch Cliff, Cliffside West   \n",
              "10        M1P  Scarborough  Dorset Park, Wexford Heights, Scarborough Town...   \n",
              "11        M1R  Scarborough                                  Wexford, Maryvale   \n",
              "\n",
              "     Latitude  Longitude  \n",
              "0   43.806686 -79.194353  \n",
              "1   43.784535 -79.160497  \n",
              "2   43.763573 -79.188711  \n",
              "3   43.770992 -79.216917  \n",
              "4   43.773136 -79.239476  \n",
              "5   43.744734 -79.239476  \n",
              "6   43.727929 -79.262029  \n",
              "7   43.711112 -79.284577  \n",
              "8   43.716316 -79.239476  \n",
              "9   43.692657 -79.264848  \n",
              "10  43.757410 -79.273304  \n",
              "11  43.750072 -79.295849  "
            ]
          },
          "metadata": {
            "tags": []
          },
          "execution_count": 27
        }
      ]
    },
    {
      "cell_type": "markdown",
      "metadata": {
        "id": "5oCN2bvPi2xC"
      },
      "source": [
        "### Above is the second submission for the dataframe created with the latitude/longitude "
      ]
    },
    {
      "cell_type": "code",
      "metadata": {
        "id": "st-RIwOu6KNs"
      },
      "source": [
        "import requests\n",
        "import random\n"
      ],
      "execution_count": null,
      "outputs": []
    },
    {
      "cell_type": "code",
      "metadata": {
        "colab": {
          "base_uri": "https://localhost:8080/"
        },
        "id": "veV32nOY6gbf",
        "outputId": "d93250e5-ca43-4992-8871-81451ad10e14"
      },
      "source": [
        "!pip install geopy\n",
        "from geopy.geocoders import Nominatim # module to convert an address into latitude and longitude values"
      ],
      "execution_count": null,
      "outputs": [
        {
          "output_type": "stream",
          "text": [
            "Requirement already satisfied: geopy in /usr/local/lib/python3.6/dist-packages (1.17.0)\n",
            "Requirement already satisfied: geographiclib<2,>=1.49 in /usr/local/lib/python3.6/dist-packages (from geopy) (1.50)\n"
          ],
          "name": "stdout"
        }
      ]
    },
    {
      "cell_type": "markdown",
      "metadata": {
        "id": "unZoD3D86Aib"
      },
      "source": [
        ""
      ]
    },
    {
      "cell_type": "code",
      "metadata": {
        "id": "TqX8p4eh62yd"
      },
      "source": [
        "# Libraries to display image\n",
        "from IPython.display import Image\n",
        "from IPython.core.display import HTML\n",
        "\n",
        "#Libraries for json transformation\n",
        "from pandas.io.json import json_normalize\n"
      ],
      "execution_count": null,
      "outputs": []
    },
    {
      "cell_type": "code",
      "metadata": {
        "colab": {
          "base_uri": "https://localhost:8080/"
        },
        "id": "apNdH9Wp63Jy",
        "outputId": "b73a6935-7738-44fa-f935-682f067d2f71"
      },
      "source": [
        "#import folium\n",
        "!pip install folium\n",
        "import folium\n",
        "print(\"folium is imported\")"
      ],
      "execution_count": null,
      "outputs": [
        {
          "output_type": "stream",
          "text": [
            "Requirement already satisfied: folium in /usr/local/lib/python3.6/dist-packages (0.8.3)\n",
            "Requirement already satisfied: numpy in /usr/local/lib/python3.6/dist-packages (from folium) (1.18.5)\n",
            "Requirement already satisfied: branca>=0.3.0 in /usr/local/lib/python3.6/dist-packages (from folium) (0.4.1)\n",
            "Requirement already satisfied: six in /usr/local/lib/python3.6/dist-packages (from folium) (1.15.0)\n",
            "Requirement already satisfied: requests in /usr/local/lib/python3.6/dist-packages (from folium) (2.23.0)\n",
            "Requirement already satisfied: jinja2 in /usr/local/lib/python3.6/dist-packages (from folium) (2.11.2)\n",
            "Requirement already satisfied: urllib3!=1.25.0,!=1.25.1,<1.26,>=1.21.1 in /usr/local/lib/python3.6/dist-packages (from requests->folium) (1.24.3)\n",
            "Requirement already satisfied: idna<3,>=2.5 in /usr/local/lib/python3.6/dist-packages (from requests->folium) (2.10)\n",
            "Requirement already satisfied: certifi>=2017.4.17 in /usr/local/lib/python3.6/dist-packages (from requests->folium) (2020.11.8)\n",
            "Requirement already satisfied: chardet<4,>=3.0.2 in /usr/local/lib/python3.6/dist-packages (from requests->folium) (3.0.4)\n",
            "Requirement already satisfied: MarkupSafe>=0.23 in /usr/local/lib/python3.6/dist-packages (from jinja2->folium) (1.1.1)\n",
            "folium is imported\n"
          ],
          "name": "stdout"
        }
      ]
    },
    {
      "cell_type": "code",
      "metadata": {
        "id": "8QP2yCC39gw6"
      },
      "source": [
        "manhattan_onehot = pd.get_dummies(manhattan_venues[[\"Venue Category\"]], prefix = \"\", prefix_sep = \"\")\n",
        "manhattan_onehot[\"Neighborhood\"] = manhattan_venues[\"Neighborhood\"]\n",
        "manhattan_onehot.head()\n",
        "fixed_columns = [manhattan_onehot.columns[-1]] + list(manhattan_onehot.columns[:-1])\n",
        "manhattan_onehot = manhattan_onehot[fixed_columns]\n",
        "manhattan_onehot.head()"
      ],
      "execution_count": null,
      "outputs": []
    }
  ]
}