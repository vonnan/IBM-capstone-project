{
  "nbformat": 4,
  "nbformat_minor": 0,
  "metadata": {
    "colab": {
      "name": "IBM_capstone.ipynb",
      "provenance": [],
      "authorship_tag": "ABX9TyNK3fENERLH8cRSin0O0agO",
      "include_colab_link": true
    },
    "kernelspec": {
      "name": "python3",
      "display_name": "Python 3"
    }
  },
  "cells": [
    {
      "cell_type": "markdown",
      "metadata": {
        "id": "view-in-github",
        "colab_type": "text"
      },
      "source": [
        "<a href=\"https://colab.research.google.com/github/vonnan/IBM-capstone-project/blob/main/IBM_capstone.ipynb\" target=\"_parent\"><img src=\"https://colab.research.google.com/assets/colab-badge.svg\" alt=\"Open In Colab\"/></a>"
      ]
    },
    {
      "cell_type": "markdown",
      "metadata": {
        "id": "Szjccz1w6FLm"
      },
      "source": [
        "###IBM Capstone Project"
      ]
    },
    {
      "cell_type": "code",
      "metadata": {
        "id": "PeV3SiIquC_w",
        "colab": {
          "base_uri": "https://localhost:8080/"
        },
        "outputId": "50ca80cb-9dff-4cd8-89bc-7897ed7ed6e7"
      },
      "source": [
        "import pandas as pd\n",
        "pd.set_option(\"display.max_rows\", None)\n",
        "pd.set_option(\"display.max_columns\", None)\n",
        "import numpy as np\n",
        "print(\"Hello Capstone Project Course!\")"
      ],
      "execution_count": 6,
      "outputs": [
        {
          "output_type": "stream",
          "text": [
            "Hello Capstone Project Course!\n"
          ],
          "name": "stdout"
        }
      ]
    },
    {
      "cell_type": "markdown",
      "metadata": {
        "id": "9rhJ7DYL6Jg6"
      },
      "source": [
        "### Webscraping from https://en.wikipedia.org/wiki/List_of_postal_codes_of_Canada:_M\n",
        "\n",
        "To create the above dataframe:\n",
        "\n",
        "1. The dataframe will consist of three columns: PostalCode, \n",
        "Borough, and Neighborhood\n",
        "2. Only process the cells that have an assigned borough. Ignore cells with a borough that is Not assigned.\n",
        "3. More than one neighborhood can exist in one postal code area. For example, in the table on the Wikipedia page, you will notice that M5A is listed twice and has two neighborhoods: Harbourfront and Regent Park. These two rows will be combined into one row with the neighborhoods separated with a comma as shown in row 11 in the above table.\n",
        "4. If a cell has a borough but a Not assigned neighborhood, then the neighborhood will be the same as the borough.\n",
        "Clean your Notebook and add Markdown cells to explain your work and any assumptions you are making.\n",
        "In the last cell of your notebook, use the .shape method to print the number of rows of your dataframe.\n",
        "\n",
        "\n",
        "\n"
      ]
    },
    {
      "cell_type": "markdown",
      "metadata": {
        "id": "6JgzNbu-Y9yj"
      },
      "source": [
        "### Use pd.read_html for webscraping the Toronto data\n",
        "\n",
        "The dataframe will consist of three columns: PostalCode, Borough, and Neighborhood\n",
        "\n"
      ]
    },
    {
      "cell_type": "code",
      "metadata": {
        "id": "i3rU1h5B_E-C"
      },
      "source": [
        "url = \"https://en.wikipedia.org/wiki/List_of_postal_codes_of_Canada:_M\"\n",
        "df1, df2, df3 = pd.read_html(url)\n",
        "\n",
        "df1.columns = [\"PostalCode\", \"Borough\", \"Neighborhood\"]\n",
        "\n",
        "\n"
      ],
      "execution_count": 17,
      "outputs": []
    },
    {
      "cell_type": "markdown",
      "metadata": {
        "id": "4DFu66b4Zv0B"
      },
      "source": [
        "### Only process the cells that have an assigned borough. Ignore cells with a borough that is Not assigned.\n",
        "\n",
        "### More than one neighborhood can exist in one postal code area. For example, in the table on the Wikipedia page, you will notice that M5A is listed twice and has two neighborhoods: Harbourfront and Regent Park. These two rows will be combined into one row with the neighborhoods separated with a comma as shown in row 11 in the above table."
      ]
    },
    {
      "cell_type": "code",
      "metadata": {
        "id": "EyyW6Ay9ZiI7"
      },
      "source": [
        "toronto = df1.loc[df1[\"Borough\"] != \"Not assigned\"].copy() # remove the unassigned borough\n",
        "\n",
        "toronto.sort_values(\"PostalCode\", inplace = True)"
      ],
      "execution_count": 24,
      "outputs": []
    },
    {
      "cell_type": "markdown",
      "metadata": {
        "id": "L6_k6T5rGJkZ"
      },
      "source": [
        "###If a cell has a borough but a Not assigned neighborhood, then the neighborhood will be the same as the borough. Clean your Notebook and add Markdown cells to explain your work and any assumptions you are making. \n",
        "\n",
        "###In the last cell of your notebook, use the .shape method to print the number of rows of your dataframe.\n",
        "\n"
      ]
    },
    {
      "cell_type": "code",
      "metadata": {
        "colab": {
          "base_uri": "https://localhost:8080/",
          "height": 221
        },
        "id": "TM-BeB_UabY5",
        "outputId": "9bb075a9-830c-4203-8473-f323f24065a5"
      },
      "source": [
        "toronto[toronto[\"Neighborhood\"] == \"Not assigned\"][\"Neighborhood\"] = toronto[toronto[\"Neighborhood\"] == \"Not assigned\"][\"Borough\"] #If a cell has a borough but a Not assigned neighborhood, then the neighborhood will be the same as the borough. \n",
        "\n",
        "print(\"There are {} rows, i.e., postal codes in the dataframe\".format(toronto.shape[0])) \n",
        "\n",
        "toronto.head()"
      ],
      "execution_count": 25,
      "outputs": [
        {
          "output_type": "stream",
          "text": [
            "There are 103 rows, i.e., postal codes in the dataframe\n"
          ],
          "name": "stdout"
        },
        {
          "output_type": "execute_result",
          "data": {
            "text/html": [
              "<div>\n",
              "<style scoped>\n",
              "    .dataframe tbody tr th:only-of-type {\n",
              "        vertical-align: middle;\n",
              "    }\n",
              "\n",
              "    .dataframe tbody tr th {\n",
              "        vertical-align: top;\n",
              "    }\n",
              "\n",
              "    .dataframe thead th {\n",
              "        text-align: right;\n",
              "    }\n",
              "</style>\n",
              "<table border=\"1\" class=\"dataframe\">\n",
              "  <thead>\n",
              "    <tr style=\"text-align: right;\">\n",
              "      <th></th>\n",
              "      <th>PostalCode</th>\n",
              "      <th>Borough</th>\n",
              "      <th>Neighborhood</th>\n",
              "    </tr>\n",
              "  </thead>\n",
              "  <tbody>\n",
              "    <tr>\n",
              "      <th>9</th>\n",
              "      <td>M1B</td>\n",
              "      <td>Scarborough</td>\n",
              "      <td>Malvern, Rouge</td>\n",
              "    </tr>\n",
              "    <tr>\n",
              "      <th>18</th>\n",
              "      <td>M1C</td>\n",
              "      <td>Scarborough</td>\n",
              "      <td>Rouge Hill, Port Union, Highland Creek</td>\n",
              "    </tr>\n",
              "    <tr>\n",
              "      <th>27</th>\n",
              "      <td>M1E</td>\n",
              "      <td>Scarborough</td>\n",
              "      <td>Guildwood, Morningside, West Hill</td>\n",
              "    </tr>\n",
              "    <tr>\n",
              "      <th>36</th>\n",
              "      <td>M1G</td>\n",
              "      <td>Scarborough</td>\n",
              "      <td>Woburn</td>\n",
              "    </tr>\n",
              "    <tr>\n",
              "      <th>45</th>\n",
              "      <td>M1H</td>\n",
              "      <td>Scarborough</td>\n",
              "      <td>Cedarbrae</td>\n",
              "    </tr>\n",
              "  </tbody>\n",
              "</table>\n",
              "</div>"
            ],
            "text/plain": [
              "   PostalCode      Borough                            Neighborhood\n",
              "9         M1B  Scarborough                          Malvern, Rouge\n",
              "18        M1C  Scarborough  Rouge Hill, Port Union, Highland Creek\n",
              "27        M1E  Scarborough       Guildwood, Morningside, West Hill\n",
              "36        M1G  Scarborough                                  Woburn\n",
              "45        M1H  Scarborough                               Cedarbrae"
            ]
          },
          "metadata": {
            "tags": []
          },
          "execution_count": 25
        }
      ]
    },
    {
      "cell_type": "markdown",
      "metadata": {
        "id": "i5AK2WQLclp1"
      },
      "source": [
        "### The above is for the first link submission, requirement 1-4\n",
        "\n",
        "(Submit a link to your Notebook on your Github repository. (10 marks))"
      ]
    },
    {
      "cell_type": "markdown",
      "metadata": {
        "id": "5R9crew2fjtB"
      },
      "source": [
        "###we need to get the latitude and the longitude coordinates of each neighborhood.\n",
        "First try use geocoder.google to get the latitude and longitude information\n",
        "\n",
        "Step 1: Install geocoder and import it"
      ]
    },
    {
      "cell_type": "code",
      "metadata": {
        "id": "84VxJFYifit4"
      },
      "source": [
        "!pip install geocoder\n",
        "import geocoder\n"
      ],
      "execution_count": null,
      "outputs": []
    },
    {
      "cell_type": "markdown",
      "metadata": {
        "id": "6gY_EJUagP9L"
      },
      "source": [
        ""
      ]
    },
    {
      "cell_type": "code",
      "metadata": {
        "id": "FLBw8Z8aFn6Z"
      },
      "source": [
        "\"\"\"\n",
        "\n",
        "def get_lat_long(postalcode):\n",
        "  counter = 0\n",
        "  location = None\n",
        "  while (location == None):\n",
        "    location = geocoder.google(\"{}, Toronto, Ontario\".format(postalcode)).latlon\n",
        "    counter += 1\n",
        "    if counter ==10:\n",
        "      break\n",
        "  \n",
        "  return location\n",
        "\n",
        "toronto[\"location\"] = toronto[\"PostalCode\"].apply(get_lat_long)\n",
        "\n",
        "toronto.head()\n",
        "\"\"\""
      ],
      "execution_count": null,
      "outputs": []
    },
    {
      "cell_type": "markdown",
      "metadata": {
        "id": "rEMKhwcEiXBl"
      },
      "source": [
        "###Geocoder.google is not reliable.\n",
        "We have to user the webscraping to obtain the latitude/longitude for the Toronto borough/neighborhood"
      ]
    },
    {
      "cell_type": "code",
      "metadata": {
        "id": "ixlYAbY1U2AY"
      },
      "source": [
        "url = \"https://cocl.us/Geospatial_data\"\n",
        "PC_location = pd.read_csv(url)\n",
        "PC_location.rename(columns = {\"Postal Code\": \"PostalCode\"}, inplace = True)\n",
        "toronto = toronto.merge(PC_location, how = \"left\", on= \"PostalCode\")\n"
      ],
      "execution_count": null,
      "outputs": []
    },
    {
      "cell_type": "code",
      "metadata": {
        "colab": {
          "base_uri": "https://localhost:8080/",
          "height": 438
        },
        "id": "44I3lJVTjE0e",
        "outputId": "2354021b-65b1-45ef-dca8-51eeab4c2c21"
      },
      "source": [
        "print(toronto.shape[0])\n",
        "toronto.head(12)"
      ],
      "execution_count": 27,
      "outputs": [
        {
          "output_type": "stream",
          "text": [
            "103\n"
          ],
          "name": "stdout"
        },
        {
          "output_type": "execute_result",
          "data": {
            "text/html": [
              "<div>\n",
              "<style scoped>\n",
              "    .dataframe tbody tr th:only-of-type {\n",
              "        vertical-align: middle;\n",
              "    }\n",
              "\n",
              "    .dataframe tbody tr th {\n",
              "        vertical-align: top;\n",
              "    }\n",
              "\n",
              "    .dataframe thead th {\n",
              "        text-align: right;\n",
              "    }\n",
              "</style>\n",
              "<table border=\"1\" class=\"dataframe\">\n",
              "  <thead>\n",
              "    <tr style=\"text-align: right;\">\n",
              "      <th></th>\n",
              "      <th>PostalCode</th>\n",
              "      <th>Borough</th>\n",
              "      <th>Neighborhood</th>\n",
              "      <th>Latitude</th>\n",
              "      <th>Longitude</th>\n",
              "    </tr>\n",
              "  </thead>\n",
              "  <tbody>\n",
              "    <tr>\n",
              "      <th>0</th>\n",
              "      <td>M1B</td>\n",
              "      <td>Scarborough</td>\n",
              "      <td>Malvern, Rouge</td>\n",
              "      <td>43.806686</td>\n",
              "      <td>-79.194353</td>\n",
              "    </tr>\n",
              "    <tr>\n",
              "      <th>1</th>\n",
              "      <td>M1C</td>\n",
              "      <td>Scarborough</td>\n",
              "      <td>Rouge Hill, Port Union, Highland Creek</td>\n",
              "      <td>43.784535</td>\n",
              "      <td>-79.160497</td>\n",
              "    </tr>\n",
              "    <tr>\n",
              "      <th>2</th>\n",
              "      <td>M1E</td>\n",
              "      <td>Scarborough</td>\n",
              "      <td>Guildwood, Morningside, West Hill</td>\n",
              "      <td>43.763573</td>\n",
              "      <td>-79.188711</td>\n",
              "    </tr>\n",
              "    <tr>\n",
              "      <th>3</th>\n",
              "      <td>M1G</td>\n",
              "      <td>Scarborough</td>\n",
              "      <td>Woburn</td>\n",
              "      <td>43.770992</td>\n",
              "      <td>-79.216917</td>\n",
              "    </tr>\n",
              "    <tr>\n",
              "      <th>4</th>\n",
              "      <td>M1H</td>\n",
              "      <td>Scarborough</td>\n",
              "      <td>Cedarbrae</td>\n",
              "      <td>43.773136</td>\n",
              "      <td>-79.239476</td>\n",
              "    </tr>\n",
              "    <tr>\n",
              "      <th>5</th>\n",
              "      <td>M1J</td>\n",
              "      <td>Scarborough</td>\n",
              "      <td>Scarborough Village</td>\n",
              "      <td>43.744734</td>\n",
              "      <td>-79.239476</td>\n",
              "    </tr>\n",
              "    <tr>\n",
              "      <th>6</th>\n",
              "      <td>M1K</td>\n",
              "      <td>Scarborough</td>\n",
              "      <td>Kennedy Park, Ionview, East Birchmount Park</td>\n",
              "      <td>43.727929</td>\n",
              "      <td>-79.262029</td>\n",
              "    </tr>\n",
              "    <tr>\n",
              "      <th>7</th>\n",
              "      <td>M1L</td>\n",
              "      <td>Scarborough</td>\n",
              "      <td>Golden Mile, Clairlea, Oakridge</td>\n",
              "      <td>43.711112</td>\n",
              "      <td>-79.284577</td>\n",
              "    </tr>\n",
              "    <tr>\n",
              "      <th>8</th>\n",
              "      <td>M1M</td>\n",
              "      <td>Scarborough</td>\n",
              "      <td>Cliffside, Cliffcrest, Scarborough Village West</td>\n",
              "      <td>43.716316</td>\n",
              "      <td>-79.239476</td>\n",
              "    </tr>\n",
              "    <tr>\n",
              "      <th>9</th>\n",
              "      <td>M1N</td>\n",
              "      <td>Scarborough</td>\n",
              "      <td>Birch Cliff, Cliffside West</td>\n",
              "      <td>43.692657</td>\n",
              "      <td>-79.264848</td>\n",
              "    </tr>\n",
              "    <tr>\n",
              "      <th>10</th>\n",
              "      <td>M1P</td>\n",
              "      <td>Scarborough</td>\n",
              "      <td>Dorset Park, Wexford Heights, Scarborough Town...</td>\n",
              "      <td>43.757410</td>\n",
              "      <td>-79.273304</td>\n",
              "    </tr>\n",
              "    <tr>\n",
              "      <th>11</th>\n",
              "      <td>M1R</td>\n",
              "      <td>Scarborough</td>\n",
              "      <td>Wexford, Maryvale</td>\n",
              "      <td>43.750072</td>\n",
              "      <td>-79.295849</td>\n",
              "    </tr>\n",
              "  </tbody>\n",
              "</table>\n",
              "</div>"
            ],
            "text/plain": [
              "   PostalCode      Borough                                       Neighborhood  \\\n",
              "0         M1B  Scarborough                                     Malvern, Rouge   \n",
              "1         M1C  Scarborough             Rouge Hill, Port Union, Highland Creek   \n",
              "2         M1E  Scarborough                  Guildwood, Morningside, West Hill   \n",
              "3         M1G  Scarborough                                             Woburn   \n",
              "4         M1H  Scarborough                                          Cedarbrae   \n",
              "5         M1J  Scarborough                                Scarborough Village   \n",
              "6         M1K  Scarborough        Kennedy Park, Ionview, East Birchmount Park   \n",
              "7         M1L  Scarborough                    Golden Mile, Clairlea, Oakridge   \n",
              "8         M1M  Scarborough    Cliffside, Cliffcrest, Scarborough Village West   \n",
              "9         M1N  Scarborough                        Birch Cliff, Cliffside West   \n",
              "10        M1P  Scarborough  Dorset Park, Wexford Heights, Scarborough Town...   \n",
              "11        M1R  Scarborough                                  Wexford, Maryvale   \n",
              "\n",
              "     Latitude  Longitude  \n",
              "0   43.806686 -79.194353  \n",
              "1   43.784535 -79.160497  \n",
              "2   43.763573 -79.188711  \n",
              "3   43.770992 -79.216917  \n",
              "4   43.773136 -79.239476  \n",
              "5   43.744734 -79.239476  \n",
              "6   43.727929 -79.262029  \n",
              "7   43.711112 -79.284577  \n",
              "8   43.716316 -79.239476  \n",
              "9   43.692657 -79.264848  \n",
              "10  43.757410 -79.273304  \n",
              "11  43.750072 -79.295849  "
            ]
          },
          "metadata": {
            "tags": []
          },
          "execution_count": 27
        }
      ]
    },
    {
      "cell_type": "markdown",
      "metadata": {
        "id": "5oCN2bvPi2xC"
      },
      "source": [
        "### Above is the second submission for the dataframe created with the latitude/longitude "
      ]
    },
    {
      "cell_type": "markdown",
      "metadata": {
        "id": "KbixezD2kl9E"
      },
      "source": [
        "Below we are going to do the last part of the 3rd week assignment"
      ]
    },
    {
      "cell_type": "code",
      "metadata": {
        "id": "st-RIwOu6KNs"
      },
      "source": [
        "import json # library to handle JSON files\n",
        "\n",
        "#!conda install -c conda-forge geopy --yes # uncomment this line if you haven't completed the Foursquare API lab\n",
        "from geopy.geocoders import Nominatim # convert an address into latitude and longitude values\n",
        "\n",
        "import requests # library to handle requests\n",
        "from pandas.io.json import json_normalize # tranform JSON file into a pandas dataframe\n",
        "\n",
        "# Matplotlib and associated plotting modules\n",
        "import matplotlib.cm as cm\n",
        "import matplotlib.colors as colors\n",
        "\n",
        "# import k-means from clustering stage\n",
        "from sklearn.cluster import KMeans\n",
        "\n",
        "#!conda install -c conda-forge folium=0.5.0 --yes # uncomment this line if you haven't completed the Foursquare API lab\n",
        "import folium # map rendering library\n",
        "\n",
        "\n"
      ],
      "execution_count": 28,
      "outputs": []
    },
    {
      "cell_type": "markdown",
      "metadata": {
        "id": "unZoD3D86Aib"
      },
      "source": [
        "### We will focus on the 4 boroughs that contain \"Toronto\" in the Borough name; create a new dataframe of Toronto_city"
      ]
    },
    {
      "cell_type": "code",
      "metadata": {
        "id": "TqX8p4eh62yd",
        "colab": {
          "base_uri": "https://localhost:8080/",
          "height": 204
        },
        "outputId": "cca3c758-194b-4d6b-8fce-a509d54fae4c"
      },
      "source": [
        "toronto_city = toronto[toronto[\"Borough\"].str.contains(\"Toronto\")].copy().reset_index(drop=True)\n",
        "toronto_city.head()"
      ],
      "execution_count": 35,
      "outputs": [
        {
          "output_type": "execute_result",
          "data": {
            "text/html": [
              "<div>\n",
              "<style scoped>\n",
              "    .dataframe tbody tr th:only-of-type {\n",
              "        vertical-align: middle;\n",
              "    }\n",
              "\n",
              "    .dataframe tbody tr th {\n",
              "        vertical-align: top;\n",
              "    }\n",
              "\n",
              "    .dataframe thead th {\n",
              "        text-align: right;\n",
              "    }\n",
              "</style>\n",
              "<table border=\"1\" class=\"dataframe\">\n",
              "  <thead>\n",
              "    <tr style=\"text-align: right;\">\n",
              "      <th></th>\n",
              "      <th>PostalCode</th>\n",
              "      <th>Borough</th>\n",
              "      <th>Neighborhood</th>\n",
              "      <th>Latitude</th>\n",
              "      <th>Longitude</th>\n",
              "    </tr>\n",
              "  </thead>\n",
              "  <tbody>\n",
              "    <tr>\n",
              "      <th>0</th>\n",
              "      <td>M4E</td>\n",
              "      <td>East Toronto</td>\n",
              "      <td>The Beaches</td>\n",
              "      <td>43.676357</td>\n",
              "      <td>-79.293031</td>\n",
              "    </tr>\n",
              "    <tr>\n",
              "      <th>1</th>\n",
              "      <td>M4K</td>\n",
              "      <td>East Toronto</td>\n",
              "      <td>The Danforth West, Riverdale</td>\n",
              "      <td>43.679557</td>\n",
              "      <td>-79.352188</td>\n",
              "    </tr>\n",
              "    <tr>\n",
              "      <th>2</th>\n",
              "      <td>M4L</td>\n",
              "      <td>East Toronto</td>\n",
              "      <td>India Bazaar, The Beaches West</td>\n",
              "      <td>43.668999</td>\n",
              "      <td>-79.315572</td>\n",
              "    </tr>\n",
              "    <tr>\n",
              "      <th>3</th>\n",
              "      <td>M4M</td>\n",
              "      <td>East Toronto</td>\n",
              "      <td>Studio District</td>\n",
              "      <td>43.659526</td>\n",
              "      <td>-79.340923</td>\n",
              "    </tr>\n",
              "    <tr>\n",
              "      <th>4</th>\n",
              "      <td>M4N</td>\n",
              "      <td>Central Toronto</td>\n",
              "      <td>Lawrence Park</td>\n",
              "      <td>43.728020</td>\n",
              "      <td>-79.388790</td>\n",
              "    </tr>\n",
              "  </tbody>\n",
              "</table>\n",
              "</div>"
            ],
            "text/plain": [
              "  PostalCode          Borough                    Neighborhood   Latitude  \\\n",
              "0        M4E     East Toronto                     The Beaches  43.676357   \n",
              "1        M4K     East Toronto    The Danforth West, Riverdale  43.679557   \n",
              "2        M4L     East Toronto  India Bazaar, The Beaches West  43.668999   \n",
              "3        M4M     East Toronto                 Studio District  43.659526   \n",
              "4        M4N  Central Toronto                   Lawrence Park  43.728020   \n",
              "\n",
              "   Longitude  \n",
              "0 -79.293031  \n",
              "1 -79.352188  \n",
              "2 -79.315572  \n",
              "3 -79.340923  \n",
              "4 -79.388790  "
            ]
          },
          "metadata": {
            "tags": []
          },
          "execution_count": 35
        }
      ]
    },
    {
      "cell_type": "code",
      "metadata": {
        "id": "apNdH9Wp63Jy"
      },
      "source": [
        "boroughs = list(toronto_city[\"Borough\"].unique())\n",
        "colors =[\"red\", \"blue\", \"green\", \"purple\"]\n"
      ],
      "execution_count": 38,
      "outputs": []
    },
    {
      "cell_type": "markdown",
      "metadata": {
        "id": "SxxZFqjky9YX"
      },
      "source": [
        "###Draw the map of Toronto\n",
        "\n",
        "Step 1: get the latitude/longitude of Toronto"
      ]
    },
    {
      "cell_type": "code",
      "metadata": {
        "id": "TbtxztW8yxv-",
        "outputId": "2154b883-1791-43f2-ad14-e99c5d7284b8",
        "colab": {
          "base_uri": "https://localhost:8080/"
        }
      },
      "source": [
        "address = \"Toronto, Ontario\"\n",
        "\n",
        "toronto_map = folium.Map\n",
        "\n",
        "location = Nominatim(user_agent=\"toronto_explorer\").geocode(address)\n",
        "\n",
        "lat, lng = location.latitude, location.longitude\n",
        "lat,lng"
      ],
      "execution_count": 46,
      "outputs": [
        {
          "output_type": "execute_result",
          "data": {
            "text/plain": [
              "(43.6534817, -79.3839347)"
            ]
          },
          "metadata": {
            "tags": []
          },
          "execution_count": 46
        }
      ]
    },
    {
      "cell_type": "markdown",
      "metadata": {
        "id": "42BJyVAp0eva"
      },
      "source": [
        "Step 2: Draw the map of Toronto using Folium.Map"
      ]
    },
    {
      "cell_type": "code",
      "metadata": {
        "id": "XvwLPDMY0pEl"
      },
      "source": [
        "toronto_map = folium.Map([lat, lng], zoom_start=12)\n",
        "\n",
        "for lat, lng, brgh, hood in zip(toronto_city[\"Latitude\"], toronto_city[\"Longitude\"], toronto_city[\"Borough\"], toronto_city[\"Neighborhood\"]):\n",
        "  label = brgh + \": \" + hood\n",
        "  for i in range(4):\n",
        "    if brgh == boroughs[i]:\n",
        "      color = colors[i]\n",
        "  folium.CircleMarker(\n",
        "      [lat, lng],\n",
        "      radius = 10,\n",
        "      popup = label,\n",
        "      fill = True,\n",
        "      color = color,\n",
        "      fill_color = color,\n",
        "      fill_opacity = 0.3\n",
        "  ).add_to(toronto_map)"
      ],
      "execution_count": 49,
      "outputs": []
    },
    {
      "cell_type": "code",
      "metadata": {
        "id": "AOpwVXYt2f3t",
        "outputId": "5028de2f-f8a7-4da5-962b-87eca9eb39bf",
        "colab": {
          "base_uri": "https://localhost:8080/",
          "height": 783
        }
      },
      "source": [
        "toronto_map"
      ],
      "execution_count": 51,
      "outputs": [
        {
          "output_type": "execute_result",
          "data": {
            "text/html": [
              "<div style=\"width:100%;\"><div style=\"position:relative;width:100%;height:0;padding-bottom:60%;\"><span style=\"color:#565656\">Make this Notebook Trusted to load map: File -> Trust Notebook</span><iframe src=\"about:blank\" style=\"position:absolute;width:100%;height:100%;left:0;top:0;border:none !important;\" data-html=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 onload=\"this.contentDocument.open();this.contentDocument.write(atob(this.getAttribute('data-html')));this.contentDocument.close();\" allowfullscreen webkitallowfullscreen mozallowfullscreen></iframe></div></div>"
            ],
            "text/plain": [
              "<folium.folium.Map at 0x7f25c2f7e1d0>"
            ]
          },
          "metadata": {
            "tags": []
          },
          "execution_count": 51
        }
      ]
    },
    {
      "cell_type": "markdown",
      "metadata": {
        "id": "gv5Tpjfq24Jx"
      },
      "source": [
        "###First, just use Kmeans clustering to divide the clustering based on latitude and longitude "
      ]
    },
    {
      "cell_type": "code",
      "metadata": {
        "id": "okIC5Dmg2yIR"
      },
      "source": [
        ""
      ],
      "execution_count": 50,
      "outputs": []
    },
    {
      "cell_type": "code",
      "metadata": {
        "id": "79k896b222te"
      },
      "source": [
        ""
      ],
      "execution_count": null,
      "outputs": []
    },
    {
      "cell_type": "code",
      "metadata": {
        "id": "8QP2yCC39gw6"
      },
      "source": [
        "manhattan_onehot = pd.get_dummies(manhattan_venues[[\"Venue Category\"]], prefix = \"\", prefix_sep = \"\")\n",
        "manhattan_onehot[\"Neighborhood\"] = manhattan_venues[\"Neighborhood\"]\n",
        "manhattan_onehot.head()\n",
        "fixed_columns = [manhattan_onehot.columns[-1]] + list(manhattan_onehot.columns[:-1])\n",
        "manhattan_onehot = manhattan_onehot[fixed_columns]\n",
        "manhattan_onehot.head()"
      ],
      "execution_count": null,
      "outputs": []
    }
  ]
}